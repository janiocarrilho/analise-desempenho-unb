{
 "cells": [
  {
   "cell_type": "markdown",
   "id": "a6a2ba8b",
   "metadata": {},
   "source": [
    "# Projeto de Análise de Desempenho da Turma em Cálculo 1 - UnB\n",
    "\n",
    "## Resumo do Projeto:\n",
    "\n",
    "Este notebook tem como objetivo documentar o projeto de análise de desempenho da turma na disciplina de Cálculo 1 na Universidade de Brasília (UnB) com foco em nove módulos de revisão de Matemática Básica. Utilizarei a linguagem de programação Python para coletar, processar e analisar os dados relacionados ao desempenho dos alunos. O projeto visa extrair insights valiosos que possam contribuir para a melhoria do ensino e do aprendizado na universidade.\n",
    "            \n",
    "            - Módulo 1: Frações                            - Módulo 6: Expr. polinominais\n",
    "            - Módulo 2: Potenciação                        - Módulo 7: Div. de polinomios\n",
    "            - Módulo 3: Radiciação                         - Módulo 8: Fatoração\n",
    "            - Módulo 4: Expr. numéricas                    - Módulo 9: Funções Racionais\n",
    "            - Módulo 5: Expr. algébricas"
   ]
  },
  {
   "cell_type": "markdown",
   "id": "771f39ed",
   "metadata": {},
   "source": [
    "No arquivo que contém os dados, que por sua vez estão desorganizados, resolvi separar em partes para melhor organização. A primeira parte tem pouco mais de 32 matriculas com suas respectivas notas."
   ]
  },
  {
   "cell_type": "code",
   "execution_count": 1,
   "id": "152b0fcb",
   "metadata": {
    "scrolled": true
   },
   "outputs": [],
   "source": [
    "with open(\"c1.txt\") as file:\n",
    "    lfile = []\n",
    "    for line in file:\n",
    "        lfile.append(line)\n",
    "    \n",
    "    frstab = []\n",
    "    for mat in lfile[1:38]:\n",
    "        frstab.append(mat)"
   ]
  },
  {
   "cell_type": "markdown",
   "id": "4443caa0",
   "metadata": {},
   "source": [
    "Finalizando e limpando a primeira leva de dados, adicionei cada matricula em um dicionário com o valor sendo uma lista das suas notas em respectivos módulos"
   ]
  },
  {
   "cell_type": "code",
   "execution_count": 31,
   "id": "4df00873",
   "metadata": {},
   "outputs": [
    {
     "data": {
      "text/plain": [
       "33"
      ]
     },
     "execution_count": 31,
     "metadata": {},
     "output_type": "execute_result"
    }
   ],
   "source": [
    "alunos = {}\n",
    "for line in frstab:\n",
    "    matricula = int(line[0:9])\n",
    "    notas = line[10:27].split(\" \")\n",
    "    \n",
    "    alunos[matricula] = notas\n",
    "    \n",
    "    if alunos[matricula][0] == '':\n",
    "        del alunos[matricula]\n",
    "len(alunos)"
   ]
  },
  {
   "cell_type": "markdown",
   "id": "7eebb0f0",
   "metadata": {},
   "source": [
    "Nessa segunda leva de dados, conseguir organiza-los juntando cada aluno em unica lista com sua matrícula e respectivas notas e ultilizando list comprehension para remover o último caractere, que estava como \"\\n\", de cada elemento."
   ]
  },
  {
   "cell_type": "code",
   "execution_count": 33,
   "id": "848c6b7e",
   "metadata": {},
   "outputs": [
    {
     "name": "stdout",
     "output_type": "stream",
     "text": [
      "68\n"
     ]
    },
    {
     "data": {
      "text/plain": [
       "{232007956: ['A', 'A', 'B', 'B', 'A', 'A', 'A', 'B', 'B'],\n",
       " 232000712: ['C', 'B', 'C', 'B', 'B', 'B', 'C', 'C', 'C'],\n",
       " 232000703: ['B', 'C', 'A', 'B', 'B', 'A', 'C', 'C', 'C'],\n",
       " 232014360: ['C', 'C', 'C', 'C', 'C', 'B', 'B', 'C', 'C'],\n",
       " 221007635: ['B', 'A', 'C', 'A', 'B', 'A', 'C', 'C', 'A'],\n",
       " 231000530: ['C', 'C', 'C', 'C', 'C', 'C', 'C', 'C', 'C'],\n",
       " 232014370: ['B', 'B', 'C', 'B', 'C', 'B', 'B', 'C', 'C'],\n",
       " 232000721: ['B', 'C', 'C', 'C', 'C', 'C', 'C', 'C', 'C'],\n",
       " 232013917: ['B', 'A', 'A', 'B', 'A', 'A', 'C', 'B', 'C'],\n",
       " 232013926: ['A', 'A', 'B', 'A', 'A', 'A', 'C', 'C', 'A'],\n",
       " 232014389: ['B', 'A', 'A', 'A', 'B', 'A', 'A', 'C', 'B'],\n",
       " 232024966: ['A', 'C', 'C', 'C', 'C', 'A', 'C', 'B', 'C'],\n",
       " 232001120: ['B', 'C', 'C', 'C', 'C', 'B', 'C', 'C', 'C'],\n",
       " 232001148: ['B', 'C', 'C', 'C', 'C', 'A', 'C', 'B', 'C'],\n",
       " 232014398: ['C', 'C', 'C', 'C', 'C', 'C', 'C', 'C', 'C'],\n",
       " 231011159: ['B', 'C', 'C', 'C', 'B', 'A', 'B', 'C', 'C'],\n",
       " 232001139: ['B', 'C', 'A', 'C', 'B', 'B', 'C', 'C', 'B'],\n",
       " 232013935: ['B', 'A', 'A', 'A', 'A', 'A', 'C', 'B', 'C'],\n",
       " 232001362: ['A', 'B', 'A', 'A', 'B', 'A', 'A', 'B', 'A'],\n",
       " 232001371: ['C', 'C', 'A', 'C', 'C', 'B', 'B', 'C', 'C'],\n",
       " 232001380: ['C', 'C', 'C', 'C', 'B', 'A', 'C', 'C', 'C'],\n",
       " 232013944: ['A', 'C', 'C', 'C', 'B', 'A', 'C', 'A', 'C'],\n",
       " 232001390: ['C', 'C', 'C', 'C', 'C', 'C', 'C', 'C', 'C'],\n",
       " 232014404: ['A', 'C', 'C', 'C', 'C', 'A', 'C', 'A', 'C'],\n",
       " 231034322: ['A', 'B', 'C', 'C', 'B', 'A', 'C', 'C', 'A'],\n",
       " 232013953: ['A', 'B', 'B', 'B', 'B', 'A', 'B', 'B', 'C'],\n",
       " 232021276: ['B', 'B', 'B', 'B', 'A', 'C', 'C', 'C', 'C'],\n",
       " 232013962: ['A', 'A', 'A', 'A', 'A', 'A', 'B', 'B', 'A'],\n",
       " 232013971: ['B', 'B', 'B', 'C', 'B', 'A', 'A', 'B', 'B'],\n",
       " 232014413: ['C', 'C', 'C', 'C', 'C', 'A', 'C', 'C', 'C'],\n",
       " 232021338: ['B', 'B', 'C', 'B', 'B', 'A', 'C', 'B', 'C'],\n",
       " 232014422: ['A', 'B', 'B', 'C', 'B', 'A', 'A', 'C', 'C'],\n",
       " 222006688: ['A', 'B', 'A', 'C', 'B', 'A', 'B', 'C', 'B'],\n",
       " 231011300: ['A', 'A', 'A', 'A', 'B', 'A', 'B', 'B', 'B'],\n",
       " 232014431: ['C', 'C', 'C', 'C', 'C', 'C', 'C', 'C', 'C'],\n",
       " 222006230: ['B', 'B', 'B', 'C', 'C', 'C', 'C', 'C', 'C'],\n",
       " 231037404: ['B', 'B', 'C', 'C', 'C', 'B', 'C', 'C', 'C'],\n",
       " 232013980: ['B', 'B', 'A', 'B', 'A', 'C', 'C', 'B', 'B'],\n",
       " 232013990: ['B', 'B', 'C', 'C', 'C', 'C', 'C', 'C', 'C'],\n",
       " 232014656: ['C', 'B', 'C', 'C', 'C', 'C', 'B', 'C', 'C'],\n",
       " 221022560: ['B', 'A', 'C', 'C', 'C', 'C', 'C', 'B', 'A'],\n",
       " 212005417: ['C', 'C', 'C', 'C', 'C', 'C', 'C', 'C', 'C'],\n",
       " 231000333: ['C', 'C', 'B', 'C', 'C', 'C', 'C', 'C', 'C'],\n",
       " 232014665: ['A', 'A', 'A', 'A', 'A', 'A', 'A', 'A', 'A'],\n",
       " 232014450: ['B', 'C', 'C', 'C', 'C', 'C', 'C', 'C', 'C'],\n",
       " 200037960: ['C', 'C', 'C', 'C', 'C', 'C', 'C', 'C', 'C'],\n",
       " 222008682: ['B', 'C', 'C', 'C', 'B', 'A', 'C', 'B', 'A'],\n",
       " 232014010: ['A', 'A', 'A', 'A', 'A', 'A', 'C', 'C', 'C'],\n",
       " 222006786: ['C', 'C', 'C', 'C', 'C', 'C', 'C', 'C', 'C'],\n",
       " 232014020: ['A', 'B', 'B', 'C', 'B', 'A', 'B', 'B', 'C'],\n",
       " 232014683: ['C', 'C', 'C', 'C', 'C', 'C', 'C', 'C', 'C'],\n",
       " 231005367: ['B', 'C', 'B', 'C', 'B', 'C', 'C', 'C', 'C'],\n",
       " 222008824: ['B', 'C', 'C', 'B', 'A', 'B', 'C', 'C', 'C'],\n",
       " 232013891: ['A', 'B', 'C', 'A', 'A', 'A', 'B', 'B', 'A'],\n",
       " 232021688: ['C', 'C', 'C', 'C', 'B', 'C', 'C', 'C', 'C'],\n",
       " 232027500: ['B', 'B', 'A', 'B', 'B', 'B', 'C', 'C', 'C'],\n",
       " 232014039: ['A', 'A', 'B', 'B', 'A', 'A', 'A', 'A', 'A'],\n",
       " 222006839: ['A', 'B', 'A', 'C', 'C', 'A', 'C', 'B', 'C'],\n",
       " 232014692: ['A', 'A', 'B', 'B', 'B', 'A', 'B', 'C', 'C'],\n",
       " 232014709: ['A', 'B', 'B', 'C', 'C', 'A', 'A', 'C', 'C'],\n",
       " 232014048: ['B', 'A', 'A', 'A', 'A', 'A', 'C', 'C', 'B'],\n",
       " 232014718: ['B', 'C', 'B', 'C', 'B', 'B', 'C', 'C', 'B'],\n",
       " 232014478: ['B', 'C', 'C', 'C', 'C', 'C', 'C', 'C', 'C'],\n",
       " 231012254: ['B', 'C', 'C', 'C', 'C', 'A', 'C', 'C', 'C'],\n",
       " 221008202: ['B', 'C', 'C', 'C', 'A', 'A', 'C', 'A', 'C'],\n",
       " 222031448: ['B', 'C', 'C', 'C', 'C', 'C', 'B', 'C', 'C'],\n",
       " 232021795: ['C', 'C', 'C', 'C', 'B', 'C', 'C', 'C', 'C'],\n",
       " 211039724: ['B', 'B', 'B', 'C', 'B', 'A', 'C', 'C', 'C']}"
      ]
     },
     "execution_count": 33,
     "metadata": {},
     "output_type": "execute_result"
    }
   ],
   "source": [
    "stab = lfile[38:]\n",
    "for pos in range(len(stab)):\n",
    "    if len(stab[pos]) > 2 and len(stab[pos+1]) <= 2:\n",
    "        aluno = []\n",
    "        for i in range(10):\n",
    "            aluno.append(stab[pos+i])\n",
    "        \n",
    "        aluno = [elemento[:-1] if elemento.endswith(\"\\n\") else elemento for elemento in aluno]\n",
    "        \n",
    "        alunos[int(aluno[0])] = aluno[1:]\n",
    "    else:\n",
    "        continue\n",
    "print(len(alunos))\n",
    "alunos"
   ]
  },
  {
   "cell_type": "code",
   "execution_count": null,
   "id": "b9687ddf",
   "metadata": {},
   "outputs": [],
   "source": []
  }
 ],
 "metadata": {
  "kernelspec": {
   "display_name": "Python 3 (ipykernel)",
   "language": "python",
   "name": "python3"
  },
  "language_info": {
   "codemirror_mode": {
    "name": "ipython",
    "version": 3
   },
   "file_extension": ".py",
   "mimetype": "text/x-python",
   "name": "python",
   "nbconvert_exporter": "python",
   "pygments_lexer": "ipython3",
   "version": "3.9.13"
  }
 },
 "nbformat": 4,
 "nbformat_minor": 5
}
